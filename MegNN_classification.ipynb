{
  "cells": [
    {
      "cell_type": "code",
      "execution_count": null,
      "metadata": {
        "id": "cLcEVh3iJpK3"
      },
      "outputs": [],
      "source": [
        "!pip install mne"
      ]
    },
    {
      "cell_type": "code",
      "execution_count": null,
      "metadata": {
        "id": "eFM1B7S6C-tX"
      },
      "outputs": [],
      "source": [
        "import tensorflow as tf\n",
        "import numpy as np\n",
        "import pandas as pd\n",
        "\n",
        "import mne\n",
        "from mne.datasets import sample\n",
        "\n",
        "from sklearn.preprocessing import StandardScaler\n",
        "from sklearn.metrics import confusion_matrix\n",
        "from sklearn.metrics import precision_score\n",
        "from sklearn.metrics import recall_score\n",
        "from sklearn.metrics import f1_score\n",
        "\n",
        "\n",
        "from keras.models import Sequential\n",
        "from keras.layers import Dense\n",
        "from keras.layers import LSTM\n",
        "from keras.layers import GRU\n",
        "from keras.layers import SimpleRNN\n",
        "from keras.losses import CategoricalCrossentropy\n",
        "from keras.losses import BinaryCrossentropy\n",
        "from keras.metrics import CategoricalAccuracy\n",
        "from keras.metrics import BinaryAccuracy\n",
        "from matplotlib import pyplot as plt\n",
        "import random\n",
        "from sklearn.model_selection import train_test_split\n",
        "\n",
        "\n",
        "from tensorflow.python.keras.callbacks import ModelCheckpoint, EarlyStopping\n",
        "from tensorflow.keras import regularizers"
      ]
    },
    {
      "cell_type": "code",
      "execution_count": null,
      "metadata": {
        "id": "RkZJUkx-Entj"
      },
      "outputs": [],
      "source": [
        "from google.colab import drive\n",
        "drive.mount('/content/drive')"
      ]
    },
    {
      "cell_type": "code",
      "execution_count": null,
      "metadata": {
        "id": "vPybiu-gF-eB"
      },
      "outputs": [],
      "source": [
        "data_left_ear = np.load('/content/drive/MyDrive/data/ROI/Left Auditory.npy')\n",
        "data_right_ear = np.load('/content/drive/MyDrive/data/ROI/Right Auditory.npy')\n",
        "data_right_visual = np.load('/content/drive/MyDrive/data/ROI/Right visual.npy')\n",
        "data_left_visual = np.load('/content/drive/MyDrive/data/ROI/Left visual.npy')"
      ]
    },
    {
      "cell_type": "code",
      "execution_count": null,
      "metadata": {
        "id": "R-4Ckw2rMFQ_"
      },
      "outputs": [],
      "source": [
        "x = np.load('/content/drive/MyDrive/data/ROI/X_train.npy')\n",
        "y = np.load('/content/drive/MyDrive/data/ROI/Y_train.npy')"
      ]
    },
    {
      "cell_type": "code",
      "execution_count": null,
      "metadata": {
        "id": "byV44thXI7eJ"
      },
      "outputs": [],
      "source": [
        "x_test = np.load('/content/drive/MyDrive/data/ROI/X_test.npy')\n",
        "y_test = np.load('/content/drive/MyDrive/data/ROI/Y_test.npy')"
      ]
    },
    {
      "cell_type": "code",
      "execution_count": null,
      "metadata": {
        "id": "oaMCMRX79pwi"
      },
      "outputs": [],
      "source": [
        "print(x.shape)\n",
        "print(y.shape)"
      ]
    },
    {
      "cell_type": "code",
      "source": [
        "def z(train_data, data_ref):\n",
        "  data = train_data.copy()\n",
        "  buf = np.resize(data_ref,(data_ref.shape[0]*data_ref.shape[1],data_ref.shape[2]))\n",
        "  mean = np.mean(buf,axis = 0)\n",
        "  std = np.std(buf, axis = 0)\n",
        "  for i in range(data_ref.shape[2]):\n",
        "    data[:,:,i] = (data[:,:,i] - mean[i])/std[i]\n",
        "  return data"
      ],
      "metadata": {
        "id": "XGQTj7HybuyQ"
      },
      "execution_count": null,
      "outputs": []
    },
    {
      "cell_type": "code",
      "source": [
        "train_data_norm = z(x,x)"
      ],
      "metadata": {
        "id": "hwir2SK_Ir9U"
      },
      "execution_count": null,
      "outputs": []
    },
    {
      "cell_type": "code",
      "execution_count": null,
      "metadata": {
        "id": "IiDIJdcOwdnK"
      },
      "outputs": [],
      "source": [
        "train_data, val_data, train_labels, val_labels = train_test_split(train_data_norm, y, test_size = 0.1,random_state = 0)"
      ]
    },
    {
      "cell_type": "code",
      "execution_count": null,
      "metadata": {
        "id": "3uz-8utMFFlz"
      },
      "outputs": [],
      "source": [
        "model = Sequential()\n",
        "model.add(SimpleRNN(261, return_sequences=True, activation=\"sigmoid\"))\n",
        "model.compile(optimizer='adam', loss='binary_crossentropy')"
      ]
    },
    {
      "cell_type": "code",
      "source": [
        "callbacks = [ModelCheckpoint(\"model.h5\", monitor='val_loss', save_best_only=True),\n",
        "             EarlyStopping(monitor='loss', patience=15)]"
      ],
      "metadata": {
        "id": "aKq4TUedF4I7"
      },
      "execution_count": null,
      "outputs": []
    },
    {
      "cell_type": "code",
      "execution_count": null,
      "metadata": {
        "id": "BFcfdDPwFTLF"
      },
      "outputs": [],
      "source": [
        "history = model.fit(train_data,train_labels,batch_size = 512, epochs = 100, validation_data=(val_data , val_labels), shuffle = True, callbacks=callbacks)"
      ]
    },
    {
      "cell_type": "code",
      "execution_count": null,
      "metadata": {
        "id": "h5dBsMY9FVxi"
      },
      "outputs": [],
      "source": [
        "model.summary()"
      ]
    },
    {
      "cell_type": "code",
      "execution_count": null,
      "metadata": {
        "id": "_17PoX9EFaBg"
      },
      "outputs": [],
      "source": [
        "plt.plot(history.history['loss'])\n",
        "plt.plot(history.history['val_loss'])\n",
        "plt.title('model loss')\n",
        "plt.ylabel('Categorical BinaryEntropy')\n",
        "plt.xlabel('epoches')\n",
        "plt.legend(['train', 'val'], loc='upper right')\n",
        "plt.show()"
      ]
    },
    {
      "cell_type": "code",
      "execution_count": null,
      "metadata": {
        "id": "F3zYgCl_-gY6"
      },
      "outputs": [],
      "source": [
        "test_data_norm = z(x_test,x)"
      ]
    },
    {
      "cell_type": "code",
      "execution_count": null,
      "metadata": {
        "colab": {
          "base_uri": "https://localhost:8080/"
        },
        "id": "tRn2GeR-IKXD",
        "outputId": "88a4ff4c-fb29-411b-cade-2f82664d6e66"
      },
      "outputs": [
        {
          "output_type": "stream",
          "name": "stdout",
          "text": [
            "164/164 [==============================] - 1s 3ms/step\n"
          ]
        }
      ],
      "source": [
        "y_pred= model.predict(test_data_norm)"
      ]
    },
    {
      "cell_type": "code",
      "source": [
        "y_pred_thresh = np.zeros((5220,17,261))\n",
        "for i in range(17):\n",
        "  for j in range(261):\n",
        "    if y_pred[0,i,j] >= 0.4:\n",
        "      y_pred_thresh[0,i,j] = 1"
      ],
      "metadata": {
        "id": "tqmXTo-JVjGw"
      },
      "execution_count": null,
      "outputs": []
    },
    {
      "cell_type": "code",
      "execution_count": null,
      "metadata": {
        "id": "oOOohqeQR7Rr"
      },
      "outputs": [],
      "source": [
        "tn, fp, fn, tp,k = 0,0,0,0,0\n",
        "for i in range(y_test.shape[0]):\n",
        "  for j in range(y_test.shape[1]):\n",
        "    buf= confusion_matrix(y_test[i][j], y_pred_thresh[i][j], labels = [0, 1]).ravel()\n",
        "    tn+=buf[0]\n",
        "    fp+=buf[1]\n",
        "    fn+=buf[2]\n",
        "    tp+=buf[3]\n",
        "    k+=1\n",
        "\n",
        "tp = tp/k\n",
        "fn = fn/k\n",
        "fp = fp/k\n",
        "\n",
        "recall = tp/(tp+fn)\n",
        "precision = tp/(tp+fp)\n",
        "f1 = tp/(tp+(fp+fn)/2)\n",
        "\n",
        "print(f'tn = {tn}, fp = {fp}, fn = {fn}, tp = {tp}')\n",
        "print(f'Recall = {recall}')\n",
        "print(f'Precision = {precision}')\n",
        "print(f'F1 = {f1}')"
      ]
    },
    {
      "cell_type": "code",
      "source": [
        "data_right_visual.shape"
      ],
      "metadata": {
        "id": "y9fA8K478_m6"
      },
      "execution_count": null,
      "outputs": []
    },
    {
      "cell_type": "code",
      "source": [
        "buf = data_right_visual.T\n",
        "buf = np.reshape(buf,(1,9,305))\n",
        "real_norm = z(buf, x)\n",
        "add = np.zeros((8,305))\n",
        "buf = np.vstack((real_norm[0],add))\n",
        "real_norm = np.reshape(buf,(1,17,305))"
      ],
      "metadata": {
        "id": "n6MzYSp37r2j"
      },
      "execution_count": null,
      "outputs": []
    },
    {
      "cell_type": "code",
      "source": [
        "real_pred= model.predict(real_norm)"
      ],
      "metadata": {
        "id": "t_6VdivU8485",
        "colab": {
          "base_uri": "https://localhost:8080/"
        },
        "outputId": "87c20d71-ec02-48c3-d4d0-580044343b9c"
      },
      "execution_count": null,
      "outputs": [
        {
          "output_type": "stream",
          "name": "stdout",
          "text": [
            "1/1 [==============================] - 0s 238ms/step\n"
          ]
        }
      ]
    },
    {
      "cell_type": "code",
      "source": [
        "data_path = sample.data_path()\n",
        "subjects_dir = data_path / 'subjects'\n",
        "subject = 'sample'\n",
        "\n",
        "labels = mne.read_labels_from_annot(\n",
        "    subject = 'sample', parc = 'aparc.a2009s', hemi = \"lh\", subjects_dir=subjects_dir\n",
        ")\n",
        "\n",
        "new = []\n",
        "\n",
        "for i in range(len(labels)):\n",
        "    if len(labels[i].vertices) <= 1200:\n",
        "        new.append(labels[i].split(parts = 3, subject = 'sample', subjects_dir = subjects_dir))\n",
        "    elif len(labels[i].vertices) >= 4300:\n",
        "        new.append(labels[i].split(parts = 7, subject = 'sample', subjects_dir = subjects_dir))\n",
        "    elif len(labels[i].vertices) <= 3100 and len(labels[i].vertices) >= 1100:\n",
        "        new.append(labels[i].split(parts = 3, subject = 'sample', subjects_dir = subjects_dir))\n",
        "    else:\n",
        "        new.append(labels[i].split(parts = 5, subject = 'sample', subjects_dir = subjects_dir))\n",
        "\n",
        "\n",
        "new_labels = []\n",
        "for i in range(len(new)):\n",
        "    for j in range(len(new[i])):\n",
        "        new_labels.append(new[i][j])\n",
        "\n",
        "\n",
        "label_names = [label.name for label in new_labels]\n",
        "n_labels = len(label_names)"
      ],
      "metadata": {
        "colab": {
          "base_uri": "https://localhost:8080/"
        },
        "id": "WhpZz7hTQcyC",
        "outputId": "3c82ae36-68a3-4688-ba21-7c659dd9a2e5"
      },
      "execution_count": null,
      "outputs": [
        {
          "output_type": "stream",
          "name": "stdout",
          "text": [
            "Using default location ~/mne_data for sample...\n",
            "Creating ~/mne_data\n"
          ]
        },
        {
          "output_type": "stream",
          "name": "stderr",
          "text": [
            "Downloading file 'MNE-sample-data-processed.tar.gz' from 'https://osf.io/86qa2/download?version=6' to '/root/mne_data'.\n",
            "100%|██████████████████████████████████████| 1.65G/1.65G [00:00<00:00, 149GB/s]\n",
            "Untarring contents of '/root/mne_data/MNE-sample-data-processed.tar.gz' to '/root/mne_data'\n"
          ]
        },
        {
          "output_type": "stream",
          "name": "stdout",
          "text": [
            "Attempting to create new mne-python configuration file:\n",
            "/root/.mne/mne-python.json\n",
            "Download complete in 01m36s (1576.2 MB)\n",
            "Reading labels from parcellation...\n",
            "   read 75 labels from /root/mne_data/MNE-sample-data/subjects/sample/label/lh.aparc.a2009s.annot\n"
          ]
        }
      ]
    },
    {
      "cell_type": "code",
      "source": [
        "pred_regions= np.zeros((1,17,261))"
      ],
      "metadata": {
        "id": "E01djSLdSNSB"
      },
      "execution_count": null,
      "outputs": []
    },
    {
      "cell_type": "code",
      "source": [
        "for i in range(17):\n",
        "  for j in range(261):\n",
        "    if real_pred[0,i,j] >= 0.4:\n",
        "      pred_regions[0,i,j] = 1"
      ],
      "metadata": {
        "id": "9KJ0FOScROWj"
      },
      "execution_count": null,
      "outputs": []
    },
    {
      "cell_type": "code",
      "source": [
        "for i in range(17):\n",
        "  print(np.where(pred_regions[0][i] == 1)[0])"
      ],
      "metadata": {
        "colab": {
          "base_uri": "https://localhost:8080/"
        },
        "id": "CXi-PVQiUNLB",
        "outputId": "138a9677-a6d0-4943-b75d-c1609e947ead"
      },
      "execution_count": null,
      "outputs": [
        {
          "output_type": "stream",
          "name": "stdout",
          "text": [
            "[]\n",
            "[63]\n",
            "[ 16  63 171]\n",
            "[16 63]\n",
            "[16 27 63]\n",
            "[ 8 16 27 28 33 35]\n",
            "[  8  28  33  35 171]\n",
            "[ 33  35 171]\n",
            "[33]\n",
            "[]\n",
            "[]\n",
            "[]\n",
            "[]\n",
            "[]\n",
            "[]\n",
            "[]\n",
            "[]\n"
          ]
        }
      ]
    },
    {
      "cell_type": "code",
      "source": [
        "for i in range(17):\n",
        "  activ_labels = np.where(pred_regions[0][i] == 1)[0]\n",
        "  name_activ_labs = np.array(label_names)[activ_labels]\n",
        "  print(name_activ_labs)"
      ],
      "metadata": {
        "colab": {
          "base_uri": "https://localhost:8080/"
        },
        "id": "cHcNHTRQRTWv",
        "outputId": "c67e4a2c-05d7-4c67-cb07-ac025abe3924"
      },
      "execution_count": null,
      "outputs": [
        {
          "output_type": "stream",
          "name": "stdout",
          "text": [
            "[]\n",
            "['G_oc-temp_lat-fusifor_div2-lh']\n",
            "['G_and_S_occipital_inf_div2-lh' 'G_oc-temp_lat-fusifor_div2-lh'\n",
            " 'S_collat_transv_ant_div3-lh']\n",
            "['G_and_S_occipital_inf_div2-lh' 'G_oc-temp_lat-fusifor_div2-lh']\n",
            "['G_and_S_occipital_inf_div2-lh' 'G_cingul-Post-dorsal_div1-lh'\n",
            " 'G_oc-temp_lat-fusifor_div2-lh']\n",
            "['G_and_S_cingul-Mid-Ant_div3-lh' 'G_and_S_occipital_inf_div2-lh'\n",
            " 'G_cingul-Post-dorsal_div1-lh' 'G_cingul-Post-dorsal_div2-lh'\n",
            " 'G_cuneus_div1-lh' 'G_cuneus_div3-lh']\n",
            "['G_and_S_cingul-Mid-Ant_div3-lh' 'G_cingul-Post-dorsal_div2-lh'\n",
            " 'G_cuneus_div1-lh' 'G_cuneus_div3-lh' 'S_collat_transv_ant_div3-lh']\n",
            "['G_cuneus_div1-lh' 'G_cuneus_div3-lh' 'S_collat_transv_ant_div3-lh']\n",
            "['G_cuneus_div1-lh']\n",
            "[]\n",
            "[]\n",
            "[]\n",
            "[]\n",
            "[]\n",
            "[]\n",
            "[]\n",
            "[]\n"
          ]
        }
      ]
    }
  ],
  "metadata": {
    "accelerator": "GPU",
    "colab": {
      "provenance": [],
      "gpuType": "T4"
    },
    "kernelspec": {
      "display_name": "Python 3",
      "name": "python3"
    },
    "language_info": {
      "name": "python"
    }
  },
  "nbformat": 4,
  "nbformat_minor": 0
}